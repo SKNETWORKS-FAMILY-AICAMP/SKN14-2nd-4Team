{
 "cells": [
  {
   "metadata": {},
   "cell_type": "markdown",
   "source": "",
   "id": "25ac0686d2ddcd46"
  },
  {
   "metadata": {},
   "cell_type": "markdown",
   "source": [
    "| Model                  | Accuracy | F1-score | Precision | Recall |\n",
    "| ---------------------- | -------- | -------- | --------- | ------ |\n",
    "| **DNN**                | 0.9463   | 0.8969   | 0.9122    | 0.8821 |\n",
    "| MLPClassifier          | 0.9350   | 0.8738   | 0.9000    | 0.8491 |\n",
    "| XGBClassifier          | 0.9337   | 0.8723   | 0.8916    | 0.8538 |\n",
    "| SVC                    | 0.9387   | 0.8808   | 0.9095    | 0.8538 |\n",
    "| LogisticRegression     | 0.9325   | 0.8696   | 0.8911    | 0.8491 |\n",
    "| LGBMClassifier         | 0.9287   | 0.8620   | 0.8856    | 0.8396 |\n",
    "| RandomForestClassifier | 0.9125   | 0.8259   | 0.8737    | 0.7830 |\n",
    "| DecisionTreeClassifier | 0.8838   | 0.7759   | 0.7931    | 0.7594 |\n",
    "| KNeighborsClassifier   | 0.8750   | 0.7619   | 0.7692    | 0.7547 |\n"
   ],
   "id": "af8cc82f9f0d8429"
  },
  {
   "cell_type": "code",
   "execution_count": null,
   "id": "initial_id",
   "metadata": {
    "collapsed": true
   },
   "outputs": [],
   "source": ""
  }
 ],
 "metadata": {
  "kernelspec": {
   "display_name": "Python 3",
   "language": "python",
   "name": "python3"
  },
  "language_info": {
   "codemirror_mode": {
    "name": "ipython",
    "version": 2
   },
   "file_extension": ".py",
   "mimetype": "text/x-python",
   "name": "python",
   "nbconvert_exporter": "python",
   "pygments_lexer": "ipython2",
   "version": "2.7.6"
  }
 },
 "nbformat": 4,
 "nbformat_minor": 5
}
